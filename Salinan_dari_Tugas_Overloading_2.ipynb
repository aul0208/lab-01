{
  "nbformat": 4,
  "nbformat_minor": 0,
  "metadata": {
    "colab": {
      "provenance": [],
      "include_colab_link": true
    },
    "kernelspec": {
      "name": "python3",
      "display_name": "Python 3"
    },
    "language_info": {
      "name": "python"
    }
  },
  "cells": [
    {
      "cell_type": "markdown",
      "metadata": {
        "id": "view-in-github",
        "colab_type": "text"
      },
      "source": [
        "<a href=\"https://colab.research.google.com/github/aul0208/lab-01/blob/main/Salinan_dari_Tugas_Overloading_2.ipynb\" target=\"_parent\"><img src=\"https://colab.research.google.com/assets/colab-badge.svg\" alt=\"Open In Colab\"/></a>"
      ]
    },
    {
      "cell_type": "code",
      "execution_count": 5,
      "metadata": {
        "id": "5zCytCeM1uD4"
      },
      "outputs": [],
      "source": [
        "#class Nama\n",
        "#Buat fungsi yang digunakan untuk mengabungkan nama dengan ketentuan nama depan, nama tengah, nama akhir, dan seterusnya dianggap 1 (satu) parameter\n",
        "class nama:\n",
        "  def gabung(self, *args):\n",
        "    if (len(args) <=4):\n",
        "      sum = \"\"\n",
        "      for num in args:\n",
        "        sum += num\n",
        "      print(sum)\n",
        "    else:\n",
        "      print(\"maksimum\")"
      ]
    },
    {
      "cell_type": "code",
      "source": [
        "#Buat main program\n",
        "#Panggil fungsi untuk membuat nama lengkap 5 nama teman kalian\n",
        "hasil = nama()\n",
        "hasil.gabung(\"aulia\",\"putri\",\"masitha\")\n",
        "hasil.gabung(\"neyla\",\"ayudya\",\"alfi\",\"syafa\")\n",
        "hasil.gabung(\"sania\",\"regita\",\"prahesti\")\n",
        "hasil.gabung(\"sutriyani\")\n",
        "hasil.gabung(\"riya\",\"agustin\")"
      ],
      "metadata": {
        "id": "liQBcJWZ12MN",
        "colab": {
          "base_uri": "https://localhost:8080/"
        },
        "outputId": "3c85d6cf-3328-4c19-9e2b-9605d4ebd025"
      },
      "execution_count": 6,
      "outputs": [
        {
          "output_type": "stream",
          "name": "stdout",
          "text": [
            "auliaputrimasitha\n",
            "neylaayudyaalfisyafa\n",
            "saniaregitaprahesti\n",
            "sutriyani\n",
            "riyaagustin\n"
          ]
        }
      ]
    },
    {
      "cell_type": "code",
      "source": [
        "#Tulisakan kesimpulan dari materi Overloading menurut pemahaman anda!\n",
        "#menurut saya materi overloading ini kita bisa membuat sebuah metode yang bisa mengenal beberapa variasi jumlah parameter"
      ],
      "metadata": {
        "id": "xwFmppIG3JGE"
      },
      "execution_count": 7,
      "outputs": []
    }
  ]
}