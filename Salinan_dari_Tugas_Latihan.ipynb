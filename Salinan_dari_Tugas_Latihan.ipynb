{
  "nbformat": 4,
  "nbformat_minor": 0,
  "metadata": {
    "colab": {
      "provenance": [],
      "include_colab_link": true
    },
    "kernelspec": {
      "name": "python3",
      "display_name": "Python 3"
    },
    "language_info": {
      "name": "python"
    }
  },
  "cells": [
    {
      "cell_type": "markdown",
      "metadata": {
        "id": "view-in-github",
        "colab_type": "text"
      },
      "source": [
        "<a href=\"https://colab.research.google.com/github/aul0208/lab-01/blob/main/Salinan_dari_Tugas_Latihan.ipynb\" target=\"_parent\"><img src=\"https://colab.research.google.com/assets/colab-badge.svg\" alt=\"Open In Colab\"/></a>"
      ]
    },
    {
      "cell_type": "markdown",
      "source": [
        "Sebuah start-up GoPay merupakan perusahaan vintage yang menjadi alat pembayaran aplikasi marketplace dan lainnya. Anda seorang programmer yang ditugaskan untuk membuat aplikasi GoPay yang memiliki sebuah class bernama AkunGopay, yang memiliki atribut no_hp, nama dan saldo, dimana semua atribut bersifat private, demi keamanan.\n",
        "\n",
        "\n",
        "Pengguna bisa mendaftar akun GoPay dengan no_hp dan nama saja, namun juga bisa mendaftar dengan no_hp, nama dan saldo. Jika mendaftar dengan no_hp dan nama saja maka saldo otomatis bernilai 0.\n",
        "\n",
        "\n",
        "Class AkunGopay harus menyediakan fungsi yang dapat diakses oleh Marketplace untuk melakukan transaksi, yaitu :\n",
        "\n",
        "1.   topUp(), yang digunakan untuk menambahkan saldo\n",
        "2.   bayarTransaksi(), yang mengurangi saldo ketika melakukan transaksi\n",
        "3.   getSaldo(), untuk mengetahui jumlah saldo\n",
        "\n",
        "\n",
        "\n",
        "Teman Anda adalah seorang programer yang bekerja di sebuah start-up terkemuka Tokopedia yang bekerjasama dengan start-up keuangan GoPay. Anda ditugaskan membuat apikasi yang memiliki class AkunToped, dan memiliki atribut nama dan nomer_hp.\n",
        "\n",
        "Class AkunToped harus menyediakan fungsi yang untuk melakukan transaksi, yaitu:\n",
        "\n",
        "1. transaksi(), yang digunakan untuk mengurangi saldo Gopay dengan paramater nominal transaksi.\n",
        "2. getSaldo(), untuk mengetahui jumlah saldo Gopay.\n",
        "\n"
      ],
      "metadata": {
        "id": "NOQKwrfHB4pv"
      }
    },
    {
      "cell_type": "code",
      "source": [],
      "metadata": {
        "id": "bZyPbGWnnHuf"
      },
      "execution_count": null,
      "outputs": []
    },
    {
      "cell_type": "code",
      "execution_count": 9,
      "metadata": {
        "id": "peDTMz-5kxlh"
      },
      "outputs": [],
      "source": [
        "class AkunGopay:\n",
        "  def __init__(self, no_hp, nama, saldo=0):\n",
        "    self.__no_hp = no_hp\n",
        "    self.__nama = nama\n",
        "    self.__saldo = saldo\n",
        "  def topup(self, jumlah):\n",
        "    if jumlah > 0:\n",
        "      self.__saldo += jumlah\n",
        "      print(f\"saldo berhasil ditambahkan. saldo sekarang: {self.__saldo}\")\n",
        "    else:\n",
        "      print(\"jumlah top-up harus lebih dari 0.\")\n",
        "  def bayartransaksi(self, jumlah):\n",
        "    if jumlah > 0 and self.__saldo >= jumlah:\n",
        "        self.__saldo -= jumlah\n",
        "        print(f\"transaksi berhasil. saldo sekarang: {self.__saldo}\")\n",
        "    else:\n",
        "      print(\"saldo tidak mencukupi atau jumlah transaksi tidak valid.\")\n",
        "  def getsaldo(self):\n",
        "    return self.__saldo\n",
        "class akuntoped:\n",
        "  def __init__(self, nama, no_hp):\n",
        "    self.nama = nama\n",
        "    self.no_hp = no_hp\n",
        "  def transaksi(self, akun_gopay, jumlah):\n",
        "    if jumlah >0:\n",
        "      akun_gopay.bayartransaksi(jumlah)\n",
        "    else:\n",
        "      print(\"jumlah transaksi harus lebih dari 0.\")\n",
        "  def getsaldo(self, akun, gopay):\n",
        "    return akun_gopay.getsaldo()\n"
      ]
    },
    {
      "cell_type": "code",
      "source": [
        "#Main Program\n",
        "akun_gopay = AkunGopay(\"0895360712268\", \"aulia putri\")\n",
        "print(\"saldo awal:\", akun_gopay.getsaldo())\n",
        "\n",
        "akun_gopay.topup(2000000)\n",
        "print(\"saldo setelah top-up:\", akun_gopay.getsaldo())\n",
        "\n",
        "akun_toped = akuntoped(\"0854267845276\", \"mawarsari\")\n",
        "akun_toped.transaksi(akun_gopay, 50000)\n",
        "print(\"saldo setelah transaksi:\", akun_gopay.getsaldo())"
      ],
      "metadata": {
        "id": "eitzekkYkycQ",
        "colab": {
          "base_uri": "https://localhost:8080/"
        },
        "outputId": "940c8eb2-2d3f-4e9f-fb75-8195e62d0a3a"
      },
      "execution_count": 10,
      "outputs": [
        {
          "output_type": "stream",
          "name": "stdout",
          "text": [
            "saldo awal: 0\n",
            "saldo berhasil ditambahkan. saldo sekarang: 2000000\n",
            "saldo setelah top-up: 2000000\n",
            "transaksi berhasil. saldo sekarang: 1950000\n",
            "saldo setelah transaksi: 1950000\n"
          ]
        }
      ]
    }
  ]
}