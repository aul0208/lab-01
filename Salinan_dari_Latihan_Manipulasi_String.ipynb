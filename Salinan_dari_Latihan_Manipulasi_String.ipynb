{
  "nbformat": 4,
  "nbformat_minor": 0,
  "metadata": {
    "colab": {
      "provenance": [],
      "include_colab_link": true
    },
    "kernelspec": {
      "name": "python3",
      "display_name": "Python 3"
    },
    "language_info": {
      "name": "python"
    }
  },
  "cells": [
    {
      "cell_type": "markdown",
      "metadata": {
        "id": "view-in-github",
        "colab_type": "text"
      },
      "source": [
        "<a href=\"https://colab.research.google.com/github/aul0208/lab-01/blob/main/Salinan_dari_Latihan_Manipulasi_String.ipynb\" target=\"_parent\"><img src=\"https://colab.research.google.com/assets/colab-badge.svg\" alt=\"Open In Colab\"/></a>"
      ]
    },
    {
      "cell_type": "markdown",
      "source": [
        "# **String**"
      ],
      "metadata": {
        "id": "oQTkVF1XUye0"
      }
    },
    {
      "cell_type": "code",
      "execution_count": null,
      "metadata": {
        "id": "04B8u1HsUUkm"
      },
      "outputs": [],
      "source": [
        "nama = 'Wahid Abdulloh'\n",
        "\n",
        "asal = \"Indonesia\""
      ]
    },
    {
      "cell_type": "markdown",
      "source": [
        "# **Escape Characters**"
      ],
      "metadata": {
        "id": "P6UNtemdU2g-"
      }
    },
    {
      "cell_type": "markdown",
      "source": [
        "Dia berkata: \"Pergilah!\"\n",
        "\n",
        "Aku menimpali: \"Apakah kau ingin aku 'angkat kaki'?!\"\n",
        "\n",
        "Atau menampilkan karakter \\(^_^ \\) (/ -_-/)"
      ],
      "metadata": {
        "id": "AoGZ3paGVDXA"
      }
    },
    {
      "cell_type": "code",
      "source": [
        "print('Dia berkata: \"Pergilah!\"')"
      ],
      "metadata": {
        "colab": {
          "base_uri": "https://localhost:8080/"
        },
        "id": "5zSXFYdBUskU",
        "outputId": "803759f4-44e5-4473-f2db-e4ca284e1651"
      },
      "execution_count": 2,
      "outputs": [
        {
          "output_type": "stream",
          "name": "stdout",
          "text": [
            "Dia berkata: \"Pergilah!\"\n"
          ]
        }
      ]
    },
    {
      "cell_type": "markdown",
      "source": [
        "Solusi: Mengkombinasikan tanda petik satu ('') dan tanda petik dua (\"\")"
      ],
      "metadata": {
        "id": "qRG1yM1aVW-k"
      }
    },
    {
      "cell_type": "code",
      "source": [
        "print('Dia berkata: \"Pergilah!\"')"
      ],
      "metadata": {
        "colab": {
          "base_uri": "https://localhost:8080/"
        },
        "id": "FBGYf_8kVLeV",
        "outputId": "45addc9a-d6a1-4994-8446-4e2fd3f8cddb"
      },
      "execution_count": 3,
      "outputs": [
        {
          "output_type": "stream",
          "name": "stdout",
          "text": [
            "Dia berkata: \"Pergilah!\"\n"
          ]
        }
      ]
    },
    {
      "cell_type": "markdown",
      "source": [
        "Solusi lain: Karena di dalam string tersebut, baik tanda petik tunggal maupun tanda petik ganda sama-sama ditampilkan, maka solusinya adalah: escape string dengan backslash (\\)!"
      ],
      "metadata": {
        "id": "LpK0p1WQVrgy"
      }
    },
    {
      "cell_type": "code",
      "source": [
        "# menggunakan petik satu\n",
        "\n",
        "print('Aku menimpali: \"Apakah kau ingin aku \\'angkat kaki\\'?!\"')\n",
        "\n",
        "\n",
        "\n",
        "# menggunakan petik dua\n",
        "\n",
        "print(\"Aku menimpali: \\\"Apakah kau ingin aku 'angkat kaki'?!\\\"\")"
      ],
      "metadata": {
        "colab": {
          "base_uri": "https://localhost:8080/"
        },
        "id": "6aOCS3hgVrO1",
        "outputId": "7bc7a6a7-812a-4f4a-8a81-56767094749e"
      },
      "execution_count": 4,
      "outputs": [
        {
          "output_type": "stream",
          "name": "stdout",
          "text": [
            "Aku menimpali: \"Apakah kau ingin aku 'angkat kaki'?!\"\n",
            "Aku menimpali: \"Apakah kau ingin aku 'angkat kaki'?!\"\n"
          ]
        }
      ]
    },
    {
      "cell_type": "markdown",
      "source": [
        "Dua backslash di bawah ini akan menjadi satu saja!"
      ],
      "metadata": {
        "id": "xKOuGFr9W9km"
      }
    },
    {
      "cell_type": "code",
      "source": [
        "print('\\(^_^ \\) (/ -_-/)')"
      ],
      "metadata": {
        "colab": {
          "base_uri": "https://localhost:8080/"
        },
        "id": "T_hifc29V0sY",
        "outputId": "5622a00a-62a0-42c8-9a1c-60ce36c56a5a"
      },
      "execution_count": 5,
      "outputs": [
        {
          "output_type": "stream",
          "name": "stdout",
          "text": [
            "\\(^_^ \\) (/ -_-/)\n"
          ]
        }
      ]
    },
    {
      "cell_type": "markdown",
      "source": [
        "# **Operator in pada String**\n",
        "\n",
        "Operator keanggotan in berfungsi untuk mencari tahu apakah suatu karakter / kata terdapat pada sebuah string"
      ],
      "metadata": {
        "id": "wfdNJ7TWXGhA"
      }
    },
    {
      "cell_type": "code",
      "source": [
        "berita = 'Wisata Malang dengan udaranya yang sejuk dan pemandangan yang menakjubkan, \\\n",
        "          menawarkan beragam tempat wisata menarik yang cocok untuk \\\n",
        "          liburan keluarga atau bersama teman-teman.'\n",
        "\n",
        "print('wisata' in berita) # output: True\n",
        "\n",
        "print('wahana' in berita) # output: False"
      ],
      "metadata": {
        "id": "E5_1WMgMXLBz",
        "colab": {
          "base_uri": "https://localhost:8080/"
        },
        "outputId": "192fb228-f23e-4460-a0a1-a98e6e5b617a"
      },
      "execution_count": 6,
      "outputs": [
        {
          "output_type": "stream",
          "name": "stdout",
          "text": [
            "True\n",
            "False\n"
          ]
        }
      ]
    },
    {
      "cell_type": "markdown",
      "source": [
        "# **Memotong String**\n",
        "\n",
        "\n",
        "**Indexing String**\n",
        "\n",
        "Indeks dimulai dari 0 (ujung kiri ke kanan).\n",
        "\n",
        "Indeks negatif dimulai dari -1 yang dihitung dari karakter paling kanan ke paling kiri."
      ],
      "metadata": {
        "id": "7gExG4EDX8RD"
      }
    },
    {
      "cell_type": "code",
      "source": [
        "nama = 'Aulia Putri'\n",
        "\n",
        "print(nama[4]) # output: a\n"
      ],
      "metadata": {
        "id": "z-A3a67KYBcl",
        "colab": {
          "base_uri": "https://localhost:8080/"
        },
        "outputId": "3471d863-c548-4f08-cc51-bc8d61b40e26"
      },
      "execution_count": 7,
      "outputs": [
        {
          "output_type": "stream",
          "name": "stdout",
          "text": [
            "a\n"
          ]
        }
      ]
    },
    {
      "cell_type": "markdown",
      "source": [
        "**Slicing String**\n",
        "\n",
        "Untuk melakukan slicing atau pemotongan string, kita bisa menggunakan range of index yang diapit oleh dua kurung siku ([]) dan dipisahkan oleh tanda titik dua (:)."
      ],
      "metadata": {
        "id": "tWvWfechYXZL"
      }
    },
    {
      "cell_type": "code",
      "source": [
        "judul = 'Novel Dikta dan Hukum'\n",
        "\n",
        "\n",
        "print(judul[0:5])\n",
        "print(judul[:5])\n",
        "print(judul[13:11])\n",
        "print(judul[-3:-7])\n",
        "print(judul[:-8])\n",
        "print(judul[-4:])\n",
        "\n"
      ],
      "metadata": {
        "id": "FQU9EATCYnfG",
        "colab": {
          "base_uri": "https://localhost:8080/"
        },
        "outputId": "c5d34bc9-fc62-4522-c52d-8a19a6308203"
      },
      "execution_count": 8,
      "outputs": [
        {
          "output_type": "stream",
          "name": "stdout",
          "text": [
            "Novel\n",
            "Novel\n",
            "\n",
            "\n",
            "Novel Dikta d\n",
            "ukum\n"
          ]
        }
      ]
    },
    {
      "cell_type": "markdown",
      "source": [
        "# **Menghitung Panjang String**\n",
        "\n",
        "Kita bisa menghitung panjang string dengan fungsi bawaan python len()."
      ],
      "metadata": {
        "id": "z69KpNBQap01"
      }
    },
    {
      "cell_type": "code",
      "source": [
        "print(len('Polehan')) # output: 9\n",
        "print(len('Jatim')) # output: 5\n",
        "\n"
      ],
      "metadata": {
        "id": "TQPNFo51axgm",
        "colab": {
          "base_uri": "https://localhost:8080/"
        },
        "outputId": "99262e29-dda1-43f8-b0ba-0fe3f14aea4d"
      },
      "execution_count": 9,
      "outputs": [
        {
          "output_type": "stream",
          "name": "stdout",
          "text": [
            "7\n",
            "5\n"
          ]
        }
      ]
    },
    {
      "cell_type": "markdown",
      "source": [
        "# **Memeriksa Karakter Awal String dengan string.startswith()**\n",
        "\n",
        "kita akan memeriksa apakah nomor telepon diawali ‘+62’ atau tidak.\n",
        "\n",
        "Untuk melakukannya kita bisa menggunakan fungsi startswith() yang tersedia pada objek atau tipe data string"
      ],
      "metadata": {
        "id": "xyrUXLYtbS4I"
      }
    },
    {
      "cell_type": "code",
      "source": [
        "nomor_telepon_1 = '0853463286'\n",
        "nomor_telepon_2 = '45739612578'\n",
        "nomor_telepon_3 = '+984352016578'\n",
        "\n",
        "\n",
        "kode_negara = '+62'\n",
        "\n",
        "print(nomor_telepon_1.startswith(kode_negara))\n",
        "print(nomor_telepon_2.startswith(kode_negara))\n",
        "print(nomor_telepon_3.startswith(kode_negara))\n"
      ],
      "metadata": {
        "id": "WbT32cd4bikb",
        "colab": {
          "base_uri": "https://localhost:8080/"
        },
        "outputId": "391399d6-57e6-481b-bdd4-ff8df7bd3a60"
      },
      "execution_count": 10,
      "outputs": [
        {
          "output_type": "stream",
          "name": "stdout",
          "text": [
            "False\n",
            "False\n",
            "False\n"
          ]
        }
      ]
    },
    {
      "cell_type": "markdown",
      "source": [
        "# **Memeriksa Karakter Akhir String dengan string.endswith()**\n",
        "\n",
        "Begitu pula untuk kebalikannya, kita bisa memanfaatkan fungsi endswith() yang terdapat pada objek string."
      ],
      "metadata": {
        "id": "EdeRqg26bwTq"
      }
    },
    {
      "cell_type": "code",
      "source": [
        "email_1 = '20222106@siswa.smkn9malang.sch.id'\n",
        "email_2 = 'auliaapril199@gmail.com'\n",
        "\n",
        "\n",
        "\n",
        "print(email_1.endswith('gmail.com'))\n",
        "print(email_2.endswith('gmail.com'))"
      ],
      "metadata": {
        "id": "Rq4UUy0mb0n9",
        "colab": {
          "base_uri": "https://localhost:8080/"
        },
        "outputId": "d7609320-2875-4af5-c427-733100657ebd"
      },
      "execution_count": 11,
      "outputs": [
        {
          "output_type": "stream",
          "name": "stdout",
          "text": [
            "False\n",
            "True\n"
          ]
        }
      ]
    },
    {
      "cell_type": "markdown",
      "source": [
        "# **Penggabungan String**\n",
        "\n",
        "Penggabungan string adalah teknik untuk menyusun atau mengkombinasikan beberapa string menjadi satu kesatuan. Hal ini juga biasa disebut sebagai string concatenation."
      ],
      "metadata": {
        "id": "dp6CRjG8cxqZ"
      }
    },
    {
      "cell_type": "code",
      "source": [
        "nama_depan = 'Aulia'\n",
        "\n",
        "nama_belakang = 'Putri'\n",
        "\n",
        "\n",
        "nama_lengkap = nama_depan + nama_belakang\n",
        "\n",
        "print(nama_lengkap)"
      ],
      "metadata": {
        "id": "v0B6CLV5c3sQ",
        "colab": {
          "base_uri": "https://localhost:8080/"
        },
        "outputId": "eb714763-9fb7-45b7-dad2-ffae322e066f"
      },
      "execution_count": 12,
      "outputs": [
        {
          "output_type": "stream",
          "name": "stdout",
          "text": [
            "AuliaPutri\n"
          ]
        }
      ]
    },
    {
      "cell_type": "markdown",
      "source": [
        "Karena spasi merupakan sebuah karakter, untuk menghasilkan nama_lengkap yang baik, anda harus menambahkannya dengan karakter spasi"
      ],
      "metadata": {
        "id": "X4dDpyygdMLQ"
      }
    },
    {
      "cell_type": "code",
      "source": [
        "print(nama_depan + ' ' + nama_belakang)"
      ],
      "metadata": {
        "id": "y56bNkeqdCgs",
        "colab": {
          "base_uri": "https://localhost:8080/"
        },
        "outputId": "25e56a02-7c4e-42ad-dd1d-9809dca7c9bc"
      },
      "execution_count": 13,
      "outputs": [
        {
          "output_type": "stream",
          "name": "stdout",
          "text": [
            "Aulia Putri\n"
          ]
        }
      ]
    },
    {
      "cell_type": "markdown",
      "source": [
        "**String + Non String**\n",
        "\n",
        "Ingat, bahwa anda hanya bisa menambahkan string dengan string juga. Jika anda berusaha menambahkan string dengan integer, double, atau boolean dan sebagainya, maka anda akan mendapatkan error."
      ],
      "metadata": {
        "id": "68h5DPlWdaGr"
      }
    },
    {
      "cell_type": "code",
      "source": [
        "print('Sekarang tahun: ' + 2021)"
      ],
      "metadata": {
        "colab": {
          "base_uri": "https://localhost:8080/",
          "height": 168
        },
        "id": "uS9useEhdeTp",
        "outputId": "3369dee1-4771-4624-da8c-bf643715a804"
      },
      "execution_count": 14,
      "outputs": [
        {
          "output_type": "error",
          "ename": "TypeError",
          "evalue": "ignored",
          "traceback": [
            "\u001b[0;31m---------------------------------------------------------------------------\u001b[0m",
            "\u001b[0;31mTypeError\u001b[0m                                 Traceback (most recent call last)",
            "\u001b[0;32m<ipython-input-14-6a167f2a97f7>\u001b[0m in \u001b[0;36m<cell line: 1>\u001b[0;34m()\u001b[0m\n\u001b[0;32m----> 1\u001b[0;31m \u001b[0mprint\u001b[0m\u001b[0;34m(\u001b[0m\u001b[0;34m'Sekarang tahun: '\u001b[0m \u001b[0;34m+\u001b[0m \u001b[0;36m2021\u001b[0m\u001b[0;34m)\u001b[0m\u001b[0;34m\u001b[0m\u001b[0;34m\u001b[0m\u001b[0m\n\u001b[0m",
            "\u001b[0;31mTypeError\u001b[0m: can only concatenate str (not \"int\") to str"
          ]
        }
      ]
    },
    {
      "cell_type": "markdown",
      "source": [
        "Solusinya adalah kita harus mengkonversi data integer menjadi string menggunakan fungsi str():"
      ],
      "metadata": {
        "id": "We5pkWxgdomf"
      }
    },
    {
      "cell_type": "code",
      "source": [
        "print('Sekarang tahun: ' + str(2023))"
      ],
      "metadata": {
        "id": "W9VeTdXBdrKx",
        "colab": {
          "base_uri": "https://localhost:8080/"
        },
        "outputId": "be051d75-6d51-468e-fb2c-3b63891d56eb"
      },
      "execution_count": 15,
      "outputs": [
        {
          "output_type": "stream",
          "name": "stdout",
          "text": [
            "Sekarang tahun: 2023\n"
          ]
        }
      ]
    },
    {
      "cell_type": "markdown",
      "source": [
        "# **Perkalian String**\n",
        "\n",
        "Selain melakukan string concatenation menggunakan operator tambah (+), kita juga bisa menggunakan operator kali ('*').\n",
        "\n",
        "Operator perkalian ini akan mengulang-ulang string yang dikalikan."
      ],
      "metadata": {
        "id": "XXbJqI1ed1VS"
      }
    },
    {
      "cell_type": "code",
      "source": [
        "print('----------')\n",
        "\n",
        "print('-' * 10)"
      ],
      "metadata": {
        "id": "hGdMHRysd3jG",
        "colab": {
          "base_uri": "https://localhost:8080/"
        },
        "outputId": "80c978bb-9d75-49ce-c8c0-73dd93c6e20e"
      },
      "execution_count": 16,
      "outputs": [
        {
          "output_type": "stream",
          "name": "stdout",
          "text": [
            "----------\n",
            "----------\n"
          ]
        }
      ]
    }
  ]
}